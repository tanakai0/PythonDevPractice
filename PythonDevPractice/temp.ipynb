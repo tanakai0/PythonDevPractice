{
 "cells": [
  {
   "cell_type": "code",
   "execution_count": 2,
   "metadata": {},
   "outputs": [
    {
     "name": "stdout",
     "output_type": "stream",
     "text": [
      "5\n"
     ]
    }
   ],
   "source": [
    "a = 10\n",
    "\n",
    "\n",
    "class TempClass:\n",
    "    \"\"\"\n",
    "    Temp class\n",
    "    \"\"\"\n",
    "\n",
    "    def __init__(self, name: str, height: float, width: float):\n",
    "        self.name = name\n",
    "        self.height = height\n",
    "        self.width = width\n",
    "\n",
    "    def get_height(self) -> float:\n",
    "        \"\"\"\n",
    "        Getter of height\n",
    "\n",
    "        Returns\n",
    "        -------\n",
    "        height : float\n",
    "            Height\n",
    "\n",
    "        Examples\n",
    "        --------\n",
    "        >>> a = TempClass(\n",
    "        ...     \"Hanako\",\n",
    "        ...     170,\n",
    "        ...     60,\n",
    "        ... )\n",
    "        >>> print(a.get_height() + 10)\n",
    "        170\n",
    "        \"\"\"\n",
    "        return self.height\n",
    "\n",
    "\n",
    "def func(a, b, c):\n",
    "    return a * b + c\n",
    "\n",
    "\n",
    "print(func(1, 2, 3))\n",
    "a = TempClass(\"Taro\", 10, 10)"
   ]
  },
  {
   "cell_type": "code",
   "execution_count": 1,
   "metadata": {},
   "outputs": [],
   "source": [
    "a = 234 + 1112"
   ]
  },
  {
   "cell_type": "code",
   "execution_count": null,
   "metadata": {},
   "outputs": [],
   "source": []
  }
 ],
 "metadata": {
  "kernelspec": {
   "display_name": ".venv",
   "language": "python",
   "name": "python3"
  },
  "language_info": {
   "codemirror_mode": {
    "name": "ipython",
    "version": 3
   },
   "file_extension": ".py",
   "mimetype": "text/x-python",
   "name": "python",
   "nbconvert_exporter": "python",
   "pygments_lexer": "ipython3",
   "version": "3.10.13"
  }
 },
 "nbformat": 4,
 "nbformat_minor": 2
}
